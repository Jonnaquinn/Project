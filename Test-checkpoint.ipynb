{
 "cells": [
  {
   "cell_type": "code",
   "execution_count": 1,
   "metadata": {},
   "outputs": [],
   "source": [
    "from bs4 import BeautifulSoup\n",
    "from requests import get\n",
    "import pandas as pd\n",
    "import itertools\n",
    "import matplotlib.pyplot as plt\n",
    "import seaborn as sns\n",
    "sns.set()"
   ]
  },
  {
   "cell_type": "code",
   "execution_count": 2,
   "metadata": {},
   "outputs": [],
   "source": [
    "headers = ({'User-Agent':\n",
    "            'Mozilla/5.0 (Windows NT 6.1) AppleWebKit/537.36 (KHTML, like Gecko) Chrome/41.0.2228.0 Safari/537.36'})"
   ]
  },
  {
   "cell_type": "code",
   "execution_count": 4,
   "metadata": {},
   "outputs": [],
   "source": [
    "prices = []\n",
    "addresses = []\n",
    "suburbs = []\n",
    "states = []\n",
    "postcodes = []\n",
    "bedss = []\n",
    "bathrooms = []\n",
    "parkings = []\n",
    "types = []\n",
    "urls = []"
   ]
  },
  {
   "cell_type": "code",
   "execution_count": 5,
   "metadata": {},
   "outputs": [
    {
     "name": "stdout",
     "output_type": "stream",
     "text": [
      "You scraped 1 pages containing 0 properties.\n",
      "Wall time: 181 ms\n"
     ]
    }
   ],
   "source": [
    "%%time\n",
    "n_pages = 0\n",
    "for page in range(0,50):\n",
    "    n_pages += 1\n",
    "    houses_url = 'https://www.domain.com.au/sale/eastern-suburbs-vic/?ptype=apartment-unit-flat,block-of-units,duplex,free-standing,new-apartments,new-home-designs,new-house-land,pent-house,semi-detached,studio,terrace,town-house,villa&price=450000-750000&sort=price-asc'+ '&page='+str(page)\n",
    "    r = get(houses_url, headers=headers)\n",
    "    page_html = BeautifulSoup(r.text, 'html.parser')\n",
    "    house_containers = page_html.find_all('div', class_=\"css-1gkcyyc\")\n",
    "    if house_containers != []:\n",
    "        for container in house_containers:\n",
    "            \n",
    "            #Price\n",
    "            price = container.find_all('p')[0].text[0:9]\n",
    "            price = price.replace(',','')\n",
    "            price = price.replace('$','')\n",
    "            price = price.replace(' ','')\n",
    "            prices.append(price) \n",
    "            \n",
    "            #Address\n",
    "            address = container.find_all('span')[0].text\n",
    "            address = address.replace(',\\xa0','')\n",
    "            addresses.append(address)\n",
    "            \n",
    "            #Suburb\n",
    "            suburb = container.find_all('span')[2].text\n",
    "            suburbs.append(suburb)\n",
    "            \n",
    "            #State\n",
    "            state = container.find_all('span')[3].text\n",
    "            states.append(state)\n",
    "            \n",
    "            #Postcode\n",
    "            postcode = container.find_all('span')[4].text\n",
    "            postcodes.append(postcode)\n",
    "            \n",
    "            #Beds\n",
    "            beds = container.find_all('span')[5].text\n",
    "            beds = beds.replace(' Beds', '')\n",
    "            bedss.append(beds)\n",
    "            \n",
    "            #Bathrooms\n",
    "            bathroom = container.find_all('span')[8].text\n",
    "            bathroom = bathroom.replace(' Bath', '')\n",
    "            bathrooms.append(bathroom)\n",
    "            \n",
    "            #Parking Spots\n",
    "            parking = container.find_all('span')[11].text\n",
    "            parking = parking.replace(' Parking', '')\n",
    "            parkings.append(parking)\n",
    "            \n",
    "            #Type\n",
    "#            type = container.find_all('span')[14].text\n",
    "#            types.append(type)\n",
    "            \n",
    "            #Url\n",
    "            url = 'https://www.domain.com.au/' + container.find_all('a')[0].get('href')\n",
    "            urls.append(url)\n",
    "    else:\n",
    "        break\n",
    "        \n",
    "    #sleep(randint(1,2))\n",
    "    \n",
    "print('You scraped {} pages containing {} properties.'.format(n_pages, len(addresses)))"
   ]
  },
  {
   "cell_type": "code",
   "execution_count": null,
   "metadata": {},
   "outputs": [],
   "source": []
  }
 ],
 "metadata": {
  "kernelspec": {
   "display_name": "Python 3",
   "language": "python",
   "name": "python3"
  },
  "language_info": {
   "codemirror_mode": {
    "name": "ipython",
    "version": 3
   },
   "file_extension": ".py",
   "mimetype": "text/x-python",
   "name": "python",
   "nbconvert_exporter": "python",
   "pygments_lexer": "ipython3",
   "version": "3.8.2"
  }
 },
 "nbformat": 4,
 "nbformat_minor": 4
}
